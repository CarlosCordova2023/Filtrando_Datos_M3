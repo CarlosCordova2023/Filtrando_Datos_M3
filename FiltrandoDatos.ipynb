{
  "nbformat": 4,
  "nbformat_minor": 0,
  "metadata": {
    "colab": {
      "provenance": [],
      "authorship_tag": "ABX9TyM4cjQ/VDvIdtCWScavfQfj",
      "include_colab_link": true
    },
    "kernelspec": {
      "name": "python3",
      "display_name": "Python 3"
    },
    "language_info": {
      "name": "python"
    }
  },
  "cells": [
    {
      "cell_type": "markdown",
      "metadata": {
        "id": "view-in-github",
        "colab_type": "text"
      },
      "source": [
        "<a href=\"https://colab.research.google.com/github/CarlosCordova2023/Filtrando_Datos_M3/blob/main/FiltrandoDatos.ipynb\" target=\"_parent\"><img src=\"https://colab.research.google.com/assets/colab-badge.svg\" alt=\"Open In Colab\"/></a>"
      ]
    },
    {
      "cell_type": "code",
      "execution_count": 1,
      "metadata": {
        "colab": {
          "base_uri": "https://localhost:8080/"
        },
        "id": "1POTuUKwqfRD",
        "outputId": "123cb636-dbc6-41d1-d434-78886dc73bad"
      },
      "outputs": [
        {
          "output_type": "stream",
          "name": "stdout",
          "text": [
            "\n",
            "Lista de nombres original:\n",
            "Harry Houdini\n",
            "Newton\n",
            "David Blaine\n",
            "Hawking\n",
            "Messi\n",
            "Teller\n",
            "Einstein\n",
            "Pele\n",
            "Juanes\n",
            "\n",
            "Magos grandiosos:\n",
            "El gran Harry Houdini\n",
            "El gran David Blaine\n",
            "El gran Teller\n",
            "\n",
            "Científicos:\n",
            "Newton\n",
            "Hawking\n",
            "Einstein\n",
            "\n",
            "Otros:\n",
            "Messi\n",
            "Pele\n",
            "Juanes\n"
          ]
        }
      ],
      "source": [
        "# Lista de nombres\n",
        "nombres = ['Harry Houdini', 'Newton', 'David Blaine', 'Hawking', 'Messi', 'Teller', 'Einstein', 'Pele', 'Juanes']\n",
        "\n",
        "# Definir las listas de magos y científicos\n",
        "magos = ['Harry Houdini', 'David Blaine', 'Teller']\n",
        "cientificos = ['Newton', 'Hawking', 'Einstein']\n",
        "\n",
        "# Función para separar los nombres en tres grupos: magos, científicos y otros\n",
        "def clasificar_nombres(nombres):\n",
        "    lista_magos = [nombre for nombre in nombres if nombre in magos]\n",
        "    lista_cientificos = [nombre for nombre in nombres if nombre in cientificos]\n",
        "    lista_otros = [nombre for nombre in nombres if nombre not in magos + cientificos]\n",
        "    return lista_magos, lista_cientificos, lista_otros\n",
        "\n",
        "# Función para modificar la lista de magos\n",
        "def hacer_grandioso(lista_magos):\n",
        "    for i in range(len(lista_magos)):\n",
        "        lista_magos[i] = 'El gran ' + lista_magos[i]\n",
        "\n",
        "# Función para imprimir los nombres\n",
        "def imprimir_nombres(lista, titulo):\n",
        "    print(f\"\\n{titulo}:\")\n",
        "    for nombre in lista:\n",
        "        print(nombre)\n",
        "\n",
        "# Clasificar los nombres\n",
        "lista_magos, lista_cientificos, lista_otros = clasificar_nombres(nombres)\n",
        "\n",
        "# Imprimir la lista de nombres original\n",
        "imprimir_nombres(nombres, \"Lista de nombres original\")\n",
        "\n",
        "# Modificar la lista de magos\n",
        "hacer_grandioso(lista_magos)\n",
        "\n",
        "# Imprimir los nombres modificados\n",
        "imprimir_nombres(lista_magos, \"Magos grandiosos\")\n",
        "imprimir_nombres(lista_cientificos, \"Científicos\")\n",
        "imprimir_nombres(lista_otros, \"Otros\")\n",
        "\n"
      ]
    }
  ]
}